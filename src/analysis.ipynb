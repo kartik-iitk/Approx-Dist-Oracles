{
 "cells": [
  {
   "cell_type": "markdown",
   "id": "980583ef",
   "metadata": {},
   "source": [
    "# Analysis\n"
   ]
  },
  {
   "cell_type": "markdown",
   "id": "72cf6bf6",
   "metadata": {},
   "source": [
    "## Imports\n"
   ]
  },
  {
   "cell_type": "code",
   "execution_count": 1,
   "id": "8e4598a3",
   "metadata": {},
   "outputs": [],
   "source": [
    "import os\n",
    "import matplotlib.pyplot as plt"
   ]
  },
  {
   "cell_type": "markdown",
   "id": "f039a8b8",
   "metadata": {},
   "source": [
    "## Stretch Analysis\n"
   ]
  },
  {
   "cell_type": "code",
   "execution_count": 11,
   "id": "4fbb66f3",
   "metadata": {},
   "outputs": [],
   "source": [
    "# Define the test case path\n",
    "test_case_path = \"../tests/test4\"\n",
    "\n",
    "# Read parameters.txt\n",
    "parameters_file = os.path.join(test_case_path, \"inp\", \"parameters.txt\")\n",
    "\n",
    "parameters = {}\n",
    "\n",
    "# Read the parameters from the file\n",
    "with open(parameters_file, \"r\") as file:\n",
    "    for i, line in enumerate(file, start=1):\n",
    "        value = int(line.strip())\n",
    "        if i == 1:\n",
    "            parameters[\"n\"] = value\n",
    "        elif i == 2:\n",
    "            parameters[\"k\"] = value\n",
    "        elif i == 3:\n",
    "            parameters[\"num_threads\"] = value\n",
    "        elif i == 4:\n",
    "            parameters[\"g\"] = value\n",
    "        elif i == 5:\n",
    "            parameters[\"both\"] = True if value == 1 else False\n",
    "        elif i == 6:\n",
    "            parameters[\"spaceopt\"] = True if value == 1 else False\n",
    "        elif i == 7:\n",
    "            parameters[\"verbose\"] = True if value == 1 else False\n",
    "        elif i == 8:\n",
    "            parameters[\"debug\"] = True if value == 1 else False"
   ]
  },
  {
   "cell_type": "code",
   "execution_count": 12,
   "id": "c219e910",
   "metadata": {},
   "outputs": [
    {
     "name": "stdout",
     "output_type": "stream",
     "text": [
      "Stretch is wrong at line  3332 ; Answer:  10.2532  and Distance:  10.2533\n"
     ]
    }
   ],
   "source": [
    "# Define the paths for answers.txt and distance.txt\n",
    "answers_file = os.path.join(test_case_path, \"out\", \"answers.txt\")\n",
    "distance_file = os.path.join(test_case_path, \"out\", \"distance.txt\")\n",
    "\n",
    "# Read the value of k from parameters\n",
    "k = int(parameters[\"k\"])\n",
    "\n",
    "stretch = []\n",
    "\n",
    "# Read the files line by line and check the condition\n",
    "with open(answers_file, \"r\") as answers, open(distance_file, \"r\") as distances:\n",
    "    i = 1\n",
    "    for answer_line, distance_line in zip(answers, distances):\n",
    "        try:\n",
    "            answer = float(answer_line.strip())\n",
    "            distance = float(distance_line.strip())\n",
    "        except ValueError:\n",
    "            print(f\"Invalid data at line {answers.tell()}\")\n",
    "            continue\n",
    "\n",
    "        if answer >= distance and answer <= (2 * k - 1) * distance:\n",
    "            if distance != 0:\n",
    "                stretch.append(answer / distance)\n",
    "        else:\n",
    "            print(\n",
    "                \"Stretch is wrong at line \",\n",
    "                i,\n",
    "                \"; Answer: \",\n",
    "                answer,\n",
    "                \" and Distance: \",\n",
    "                distance,\n",
    "            )\n",
    "\n",
    "        i += 1"
   ]
  },
  {
   "cell_type": "code",
   "execution_count": 13,
   "id": "a2c32d10",
   "metadata": {},
   "outputs": [
    {
     "data": {
      "image/png": "[encoded data removed]",
      "text/plain": [
       "<Figure size 640x480 with 1 Axes>"
      ]
     },
     "metadata": {},
     "output_type": "display_data"
    }
   ],
   "source": [
    "plt.hist(stretch, bins=100, edgecolor=\"black\")\n",
    "plt.xlabel(\"Stretch\")\n",
    "plt.ylabel(\"Frequency\")\n",
    "plt.title(\"Histogram of Stretch Values\")\n",
    "# plt.grid(True)\n",
    "# plt.savefig('stretch_histogram.png')\n",
    "plt.show()"
   ]
  },
  {
   "cell_type": "markdown",
   "id": "ed40d2ba",
   "metadata": {},
   "source": [
    "## Query Time Analysis\n"
   ]
  },
  {
   "cell_type": "code",
   "execution_count": null,
   "id": "6d32081a",
   "metadata": {},
   "outputs": [],
   "source": []
  }
 ],
 "metadata": {
  "kernelspec": {
   "display_name": "MEMPL",
   "language": "python",
   "name": "python3"
  },
  "language_info": {
   "codemirror_mode": {
    "name": "ipython",
    "version": 3
   },
   "file_extension": ".py",
   "mimetype": "text/x-python",
   "name": "python",
   "nbconvert_exporter": "python",
   "pygments_lexer": "ipython3",
   "version": "3.11.10"
  }
 },
 "nbformat": 4,
 "nbformat_minor": 5
}
